{
 "cells": [
  {
   "cell_type": "markdown",
   "id": "94bbdb3d",
   "metadata": {},
   "source": [
    "# Necessary Libraries"
   ]
  },
  {
   "cell_type": "code",
   "execution_count": 1,
   "id": "e69881e5",
   "metadata": {},
   "outputs": [],
   "source": [
    "import spotipy\n",
    "from spotipy.oauth2 import SpotifyOAuth\n",
    "import json"
   ]
  },
  {
   "cell_type": "markdown",
   "id": "9f829179",
   "metadata": {},
   "source": [
    "# Hide this sensitive info using environment variables"
   ]
  },
  {
   "cell_type": "code",
   "execution_count": 2,
   "id": "a0f89499",
   "metadata": {},
   "outputs": [],
   "source": [
    "Client_ID=\"4780703e54984a2f8234a8e10502204e\"\n",
    "Client_Secret=\"d615bd15c9034b41b125e7a9ad8e37ea\"\n",
    "user_name=\"q4jd7osrket136gu9gzv3p7tu\"\n",
    "redirect_uri=\"http://127.0.0.1:8080/\"\n",
    "site=\"https://open.spotify.com/playlist/4dyGfL5ovqMKDiMuXzQsM8?si=b15e0108a8b94523\"\n",
    "scope=\"playlist-modify-public\""
   ]
  },
  {
   "cell_type": "markdown",
   "id": "e60ece61",
   "metadata": {},
   "source": [
    "# Starting object"
   ]
  },
  {
   "cell_type": "code",
   "execution_count": 3,
   "id": "e3de0b06",
   "metadata": {},
   "outputs": [],
   "source": [
    "token=SpotifyOAuth(client_id=Client_ID,client_secret=Client_Secret,redirect_uri=redirect_uri,username=user_name,scope=scope)\n",
    "Spoti_Obj=spotipy.Spotify(auth_manager=token)"
   ]
  },
  {
   "cell_type": "markdown",
   "id": "2c86fdb4",
   "metadata": {},
   "source": [
    "# Getting playlist info"
   ]
  },
  {
   "cell_type": "code",
   "execution_count": 4,
   "id": "9daae65b",
   "metadata": {},
   "outputs": [
    {
     "name": "stdout",
     "output_type": "stream",
     "text": [
      "Enter name for PlaylistAIML-A\n",
      "Enter playlist descSEPM DEMO\n"
     ]
    }
   ],
   "source": [
    "playlist_name=input(\"Enter name for Playlist\")\n",
    "playlist_desc=input(\"Enter playlist desc\")\n",
    "playlist=Spoti_Obj.user_playlist_create(user=user_name,name=playlist_name,public=True,description=playlist_desc)\n",
    "playlist_id=playlist[\"id\"]"
   ]
  },
  {
   "cell_type": "markdown",
   "id": "0f055c1d",
   "metadata": {},
   "source": [
    "# Getting songs from User"
   ]
  },
  {
   "cell_type": "code",
   "execution_count": 5,
   "id": "59684d22",
   "metadata": {},
   "outputs": [
    {
     "name": "stdout",
     "output_type": "stream",
     "text": [
      "Enter Song nameArabic Kuthu\n",
      "Enter y to continuey\n",
      "Enter Song nameBeast Mode\n",
      "Enter y to continuen\n"
     ]
    }
   ],
   "source": [
    "final_song_list=[]\n",
    "state=True\n",
    "while(state):\n",
    "    songname=input(\"Enter Song name\")\n",
    "    res=Spoti_Obj.search(songname)\n",
    "    res=res[\"tracks\"][\"items\"][0][\"uri\"]\n",
    "    final_song_list.append(res)\n",
    "    response=input(\"Enter y to continue\")\n",
    "    if(response==\"y\"):\n",
    "        state=True\n",
    "    else:\n",
    "        state=False"
   ]
  },
  {
   "cell_type": "markdown",
   "id": "089200b1",
   "metadata": {},
   "source": [
    "# Adding Tracks to User Playlist"
   ]
  },
  {
   "cell_type": "code",
   "execution_count": 6,
   "id": "ba5379e4",
   "metadata": {},
   "outputs": [
    {
     "data": {
      "text/plain": [
       "{'snapshot_id': 'Myw1MjU4NTllN2MwOTQ5Y2FhNGFkZThlZDQ5N2U3YzRlZDUzYjc3NWRm'}"
      ]
     },
     "execution_count": 6,
     "metadata": {},
     "output_type": "execute_result"
    }
   ],
   "source": [
    "Spoti_Obj.user_playlist_add_tracks(user=user_name,playlist_id=playlist_id,tracks=final_song_list)"
   ]
  },
  {
   "cell_type": "markdown",
   "id": "cfcd425c",
   "metadata": {},
   "source": [
    "# Adding Tracks Using Existing CSV Data"
   ]
  },
  {
   "cell_type": "code",
   "execution_count": 7,
   "id": "ea80e76e",
   "metadata": {},
   "outputs": [],
   "source": [
    "import pandas as pd\n",
    "filepath=\"c:/Users/ashwi/Desktop/simple_music_db.csv\""
   ]
  },
  {
   "cell_type": "code",
   "execution_count": 8,
   "id": "eaf3a743",
   "metadata": {},
   "outputs": [
    {
     "data": {
      "text/html": [
       "<div>\n",
       "<style scoped>\n",
       "    .dataframe tbody tr th:only-of-type {\n",
       "        vertical-align: middle;\n",
       "    }\n",
       "\n",
       "    .dataframe tbody tr th {\n",
       "        vertical-align: top;\n",
       "    }\n",
       "\n",
       "    .dataframe thead th {\n",
       "        text-align: right;\n",
       "    }\n",
       "</style>\n",
       "<table border=\"1\" class=\"dataframe\">\n",
       "  <thead>\n",
       "    <tr style=\"text-align: right;\">\n",
       "      <th></th>\n",
       "      <th>Song Name</th>\n",
       "      <th>Artist Name</th>\n",
       "    </tr>\n",
       "  </thead>\n",
       "  <tbody>\n",
       "    <tr>\n",
       "      <th>0</th>\n",
       "      <td>Raja Raja Cholan</td>\n",
       "      <td>Ilayaraja</td>\n",
       "    </tr>\n",
       "    <tr>\n",
       "      <th>1</th>\n",
       "      <td>Valayapatti</td>\n",
       "      <td>Naresh Iyer</td>\n",
       "    </tr>\n",
       "    <tr>\n",
       "      <th>2</th>\n",
       "      <td>Poove Illayapove</td>\n",
       "      <td>Ilayaraja</td>\n",
       "    </tr>\n",
       "    <tr>\n",
       "      <th>3</th>\n",
       "      <td>Nee Partha Parvaikku</td>\n",
       "      <td>Ilayaraja</td>\n",
       "    </tr>\n",
       "    <tr>\n",
       "      <th>4</th>\n",
       "      <td>Yaakkai Thiri</td>\n",
       "      <td>AR Rahman</td>\n",
       "    </tr>\n",
       "    <tr>\n",
       "      <th>5</th>\n",
       "      <td>Karka Karka</td>\n",
       "      <td>Harris Jayaraj</td>\n",
       "    </tr>\n",
       "    <tr>\n",
       "      <th>6</th>\n",
       "      <td>Andhi Marzhai</td>\n",
       "      <td>Ilayaraja</td>\n",
       "    </tr>\n",
       "    <tr>\n",
       "      <th>7</th>\n",
       "      <td>Vaarayo Vaarayo</td>\n",
       "      <td>Harris Jayaraj</td>\n",
       "    </tr>\n",
       "    <tr>\n",
       "      <th>8</th>\n",
       "      <td>June Ponal</td>\n",
       "      <td>Krish</td>\n",
       "    </tr>\n",
       "  </tbody>\n",
       "</table>\n",
       "</div>"
      ],
      "text/plain": [
       "              Song Name     Artist Name\n",
       "0      Raja Raja Cholan       Ilayaraja\n",
       "1           Valayapatti     Naresh Iyer\n",
       "2      Poove Illayapove       Ilayaraja\n",
       "3  Nee Partha Parvaikku       Ilayaraja\n",
       "4         Yaakkai Thiri       AR Rahman\n",
       "5           Karka Karka  Harris Jayaraj\n",
       "6         Andhi Marzhai       Ilayaraja\n",
       "7       Vaarayo Vaarayo  Harris Jayaraj\n",
       "8            June Ponal           Krish"
      ]
     },
     "execution_count": 8,
     "metadata": {},
     "output_type": "execute_result"
    }
   ],
   "source": [
    "data=pd.read_csv(filepath)\n",
    "data"
   ]
  },
  {
   "cell_type": "code",
   "execution_count": 9,
   "id": "ba70f817",
   "metadata": {},
   "outputs": [],
   "source": [
    "song_list=data[\"Song Name\"].to_list()"
   ]
  },
  {
   "cell_type": "code",
   "execution_count": 10,
   "id": "9b3fd776",
   "metadata": {},
   "outputs": [],
   "source": [
    "f_song_list=[]\n",
    "for song in song_list:\n",
    "    res=Spoti_Obj.search(song)\n",
    "    res=res[\"tracks\"][\"items\"][0][\"uri\"]\n",
    "    f_song_list.append(res)"
   ]
  },
  {
   "cell_type": "code",
   "execution_count": 11,
   "id": "0be549a0",
   "metadata": {},
   "outputs": [
    {
     "data": {
      "text/plain": [
       "{'snapshot_id': 'NCxhOTI4NmFlNzRjNzNhMTc2ZGE4ZWUwYmE2N2ZmYjU3ZGFkY2ZjNzQ0'}"
      ]
     },
     "execution_count": 11,
     "metadata": {},
     "output_type": "execute_result"
    }
   ],
   "source": [
    "Spoti_Obj.user_playlist_add_tracks(user=user_name,playlist_id=playlist_id,tracks=f_song_list)"
   ]
  },
  {
   "cell_type": "code",
   "execution_count": 12,
   "id": "3204a2b4",
   "metadata": {},
   "outputs": [
    {
     "ename": "SyntaxError",
     "evalue": "invalid syntax (Temp/ipykernel_10440/2496531930.py, line 1)",
     "output_type": "error",
     "traceback": [
      "\u001b[1;36m  File \u001b[1;32m\"C:\\Users\\ashwi\\AppData\\Local\\Temp/ipykernel_10440/2496531930.py\"\u001b[1;36m, line \u001b[1;32m1\u001b[0m\n\u001b[1;33m    https://open.spotify.com/playlist/5FgWbvqQgB9SlgUBVbJmu0?si=ae94dfddcc1d4373\u001b[0m\n\u001b[1;37m          ^\u001b[0m\n\u001b[1;31mSyntaxError\u001b[0m\u001b[1;31m:\u001b[0m invalid syntax\n"
     ]
    }
   ],
   "source": [
    "https://open.spotify.com/playlist/5FgWbvqQgB9SlgUBVbJmu0?si=ae94dfddcc1d4373"
   ]
  },
  {
   "cell_type": "code",
   "execution_count": 14,
   "id": "6728da45",
   "metadata": {},
   "outputs": [
    {
     "data": {
      "text/plain": [
       "'3uyCKnXecb5zhcUYOC8nqp'"
      ]
     },
     "execution_count": 14,
     "metadata": {},
     "output_type": "execute_result"
    }
   ],
   "source": [
    "playlist_id"
   ]
  },
  {
   "cell_type": "markdown",
   "id": "041999b3",
   "metadata": {},
   "source": [
    "# Extracting Songs from a current Playlist"
   ]
  },
  {
   "cell_type": "code",
   "execution_count": 12,
   "id": "7b5886ba",
   "metadata": {},
   "outputs": [
    {
     "name": "stdout",
     "output_type": "stream",
     "text": [
      "Paste Playlist Linkhttps://open.spotify.com/playlist/5FgWbvqQgB9SlgUBVbJmu0?si=ae94dfddcc1d4373\n"
     ]
    }
   ],
   "source": [
    "playlist_link=input(\"Paste Playlist Link\")"
   ]
  },
  {
   "cell_type": "code",
   "execution_count": 16,
   "id": "4b9b42ee",
   "metadata": {},
   "outputs": [
    {
     "data": {
      "text/plain": [
       "''"
      ]
     },
     "execution_count": 16,
     "metadata": {},
     "output_type": "execute_result"
    }
   ],
   "source": [
    "playlist_link"
   ]
  },
  {
   "cell_type": "code",
   "execution_count": 14,
   "id": "33352df9",
   "metadata": {},
   "outputs": [
    {
     "name": "stdout",
     "output_type": "stream",
     "text": [
      "h 0\n",
      "t 1\n",
      "t 2\n",
      "p 3\n",
      "s 4\n",
      ": 5\n",
      "/ 6\n",
      "/ 7\n",
      "o 8\n",
      "p 9\n",
      "e 10\n",
      "n 11\n",
      ". 12\n",
      "s 13\n",
      "p 14\n",
      "o 15\n",
      "t 16\n",
      "i 17\n",
      "f 18\n",
      "y 19\n",
      ". 20\n",
      "c 21\n",
      "o 22\n",
      "m 23\n",
      "/ 24\n",
      "p 25\n",
      "l 26\n",
      "a 27\n",
      "y 28\n",
      "l 29\n",
      "i 30\n",
      "s 31\n",
      "t 32\n",
      "/ 33\n",
      "5 34\n",
      "F 35\n",
      "g 36\n",
      "W 37\n",
      "b 38\n",
      "v 39\n",
      "q 40\n",
      "Q 41\n",
      "g 42\n",
      "B 43\n",
      "9 44\n",
      "S 45\n",
      "l 46\n",
      "g 47\n",
      "U 48\n",
      "B 49\n",
      "V 50\n",
      "b 51\n",
      "J 52\n",
      "m 53\n",
      "u 54\n",
      "0 55\n",
      "? 56\n",
      "s 57\n",
      "i 58\n",
      "= 59\n",
      "a 60\n",
      "e 61\n",
      "9 62\n",
      "4 63\n",
      "d 64\n",
      "f 65\n",
      "d 66\n",
      "d 67\n",
      "c 68\n",
      "c 69\n",
      "1 70\n",
      "d 71\n",
      "4 72\n",
      "3 73\n",
      "7 74\n",
      "3 75\n"
     ]
    }
   ],
   "source": [
    "user_provide_playlist_id=\"\"\n",
    "count=0\n",
    "for i in playlist_link:\n",
    "    print(i,count)\n",
    "    count+=1\n",
    "    "
   ]
  },
  {
   "cell_type": "code",
   "execution_count": 15,
   "id": "2541d86b",
   "metadata": {},
   "outputs": [],
   "source": [
    "for i in range(34,56):\n",
    "    user_provide_playlist_id+=playlist_link[i]"
   ]
  },
  {
   "cell_type": "code",
   "execution_count": 16,
   "id": "10d00ac8",
   "metadata": {},
   "outputs": [
    {
     "data": {
      "text/plain": [
       "'5FgWbvqQgB9SlgUBVbJmu0'"
      ]
     },
     "execution_count": 16,
     "metadata": {},
     "output_type": "execute_result"
    }
   ],
   "source": [
    "user_provide_playlist_id"
   ]
  },
  {
   "cell_type": "markdown",
   "id": "eaa70ea7",
   "metadata": {},
   "source": [
    "# Extracting Songs from a current Playlist"
   ]
  },
  {
   "cell_type": "code",
   "execution_count": 18,
   "id": "d6dd6fe8",
   "metadata": {},
   "outputs": [],
   "source": [
    "track_name=[]\n",
    "track_uri=[]\n",
    "artist_uri=[]\n",
    "#artist_info=[]\n",
    "artist_name=[]\n",
    "#artist_pop=[]\n",
    "#artist_genres=[]\n",
    "album=[]\n",
    "track_pop=[]"
   ]
  },
  {
   "cell_type": "code",
   "execution_count": 19,
   "id": "b9ee5e34",
   "metadata": {},
   "outputs": [],
   "source": [
    "for track in Spoti_Obj.playlist_tracks(user_provide_playlist_id)[\"items\"]:\n",
    "    track_uri.append(track[\"track\"][\"uri\"])\n",
    "    track_name.append(track[\"track\"][\"name\"])\n",
    "    artist_uri.append(track[\"track\"][\"artists\"][0][\"uri\"])\n",
    "   # artist_info.append(Spoti_Obj.artist(artist_uri))\n",
    "    artist_name.append(track[\"track\"][\"artists\"][0][\"name\"])\n",
    "   # artist_pop.append(artist_info[\"popularity\"])\n",
    "    #artist_genres.append(artist_info[\"genres\"])\n",
    "    album.append(track[\"track\"][\"album\"][\"name\"])\n",
    "    track_pop.append(track[\"track\"][\"popularity\"])\n",
    "    "
   ]
  },
  {
   "cell_type": "code",
   "execution_count": 20,
   "id": "19025959",
   "metadata": {},
   "outputs": [],
   "source": [
    "user_db=pd.DataFrame(list(zip(track_name,track_uri,artist_uri,artist_name,album,track_pop)),columns=[\"Track Name\",\"Track URI\",\"Artist URI\",\"Artist Name\",\"Album\",\"Track Pop\"])"
   ]
  },
  {
   "cell_type": "code",
   "execution_count": 22,
   "id": "164a8cb6",
   "metadata": {},
   "outputs": [
    {
     "data": {
      "text/html": [
       "<div>\n",
       "<style scoped>\n",
       "    .dataframe tbody tr th:only-of-type {\n",
       "        vertical-align: middle;\n",
       "    }\n",
       "\n",
       "    .dataframe tbody tr th {\n",
       "        vertical-align: top;\n",
       "    }\n",
       "\n",
       "    .dataframe thead th {\n",
       "        text-align: right;\n",
       "    }\n",
       "</style>\n",
       "<table border=\"1\" class=\"dataframe\">\n",
       "  <thead>\n",
       "    <tr style=\"text-align: right;\">\n",
       "      <th></th>\n",
       "      <th>Track Name</th>\n",
       "      <th>Track URI</th>\n",
       "      <th>Artist URI</th>\n",
       "      <th>Artist Name</th>\n",
       "      <th>Album</th>\n",
       "      <th>Track Pop</th>\n",
       "    </tr>\n",
       "  </thead>\n",
       "  <tbody>\n",
       "    <tr>\n",
       "      <th>0</th>\n",
       "      <td>Kaadhal Rojave</td>\n",
       "      <td>spotify:track:6Eon1DjI712yg69mi3MsAd</td>\n",
       "      <td>spotify:artist:2ae6PxICSOZHvjqiCcgon8</td>\n",
       "      <td>S. P. Balasubrahmanyam</td>\n",
       "      <td>Roja</td>\n",
       "      <td>53</td>\n",
       "    </tr>\n",
       "    <tr>\n",
       "      <th>1</th>\n",
       "      <td>Ennavale Adi Ennavale (From \"Kaadhalan\")</td>\n",
       "      <td>spotify:track:7G7bUcCrwXHgFc4HZrZhdx</td>\n",
       "      <td>spotify:artist:0mV4UQ0gHg59AAUtg968pX</td>\n",
       "      <td>Unnikrishnan</td>\n",
       "      <td>P. Unnikrishnan Birthday Special Hit Songs 2019</td>\n",
       "      <td>42</td>\n",
       "    </tr>\n",
       "    <tr>\n",
       "      <th>2</th>\n",
       "      <td>Swasamae</td>\n",
       "      <td>spotify:track:5yMTLfW66GUmCknW7sl8du</td>\n",
       "      <td>spotify:artist:2ae6PxICSOZHvjqiCcgon8</td>\n",
       "      <td>S. P. Balasubrahmanyam</td>\n",
       "      <td>Thenali</td>\n",
       "      <td>38</td>\n",
       "    </tr>\n",
       "    <tr>\n",
       "      <th>3</th>\n",
       "      <td>Kadhal Sadugudu</td>\n",
       "      <td>spotify:track:4shmzSwbjpKUIlNhxzlVeC</td>\n",
       "      <td>spotify:artist:0BIhMWL7DGz4t4S0NDU6v7</td>\n",
       "      <td>S. P. B. Charan</td>\n",
       "      <td>Alaipayuthey</td>\n",
       "      <td>57</td>\n",
       "    </tr>\n",
       "    <tr>\n",
       "      <th>4</th>\n",
       "      <td>Vennilave Vennilave Vinnai</td>\n",
       "      <td>spotify:track:4QvdZjLTneDVibc4kPq7mR</td>\n",
       "      <td>spotify:artist:2NoJ7NuNs9nyj8Thoh1kbu</td>\n",
       "      <td>Hariharan</td>\n",
       "      <td>Minsara Kanavu (Original Motion Picture Soundt...</td>\n",
       "      <td>0</td>\n",
       "    </tr>\n",
       "    <tr>\n",
       "      <th>...</th>\n",
       "      <td>...</td>\n",
       "      <td>...</td>\n",
       "      <td>...</td>\n",
       "      <td>...</td>\n",
       "      <td>...</td>\n",
       "      <td>...</td>\n",
       "    </tr>\n",
       "    <tr>\n",
       "      <th>95</th>\n",
       "      <td>Nenjinile</td>\n",
       "      <td>spotify:track:5LULgwaei1OGnWnbklM6GN</td>\n",
       "      <td>spotify:artist:5Xpg6PBSUOoho2lI9qLjiu</td>\n",
       "      <td>S. Janaki</td>\n",
       "      <td>Uyire (Original Motion Picture Soundtrack)</td>\n",
       "      <td>48</td>\n",
       "    </tr>\n",
       "    <tr>\n",
       "      <th>96</th>\n",
       "      <td>Snehidhane New Version</td>\n",
       "      <td>spotify:track:264oNvCvuhw9RohxkAbWmy</td>\n",
       "      <td>spotify:artist:1HGMG8RHvcu1mfdM9MeTek</td>\n",
       "      <td>Sadhana Sargam</td>\n",
       "      <td>Alaipayuthey</td>\n",
       "      <td>53</td>\n",
       "    </tr>\n",
       "    <tr>\n",
       "      <th>97</th>\n",
       "      <td>New York</td>\n",
       "      <td>spotify:track:38kzhc8vVQa9Ia6HJY3NHx</td>\n",
       "      <td>spotify:artist:1mYsTxnqsietFxj1OgoGbG</td>\n",
       "      <td>A.R. Rahman</td>\n",
       "      <td>Silunu Oru Kadhal</td>\n",
       "      <td>55</td>\n",
       "    </tr>\n",
       "    <tr>\n",
       "      <th>98</th>\n",
       "      <td>Nenjae Yezhu</td>\n",
       "      <td>spotify:track:33iY77PeBCX5WosXbg9aZf</td>\n",
       "      <td>spotify:artist:1mYsTxnqsietFxj1OgoGbG</td>\n",
       "      <td>A.R. Rahman</td>\n",
       "      <td>Maryan (Original Motion Picture Soundtrack)</td>\n",
       "      <td>44</td>\n",
       "    </tr>\n",
       "    <tr>\n",
       "      <th>99</th>\n",
       "      <td>Singappenney</td>\n",
       "      <td>spotify:track:44z3FoAoo7yvn4ZIvvsQIm</td>\n",
       "      <td>spotify:artist:1mYsTxnqsietFxj1OgoGbG</td>\n",
       "      <td>A.R. Rahman</td>\n",
       "      <td>Bigil (Original Motion Picture Soundtrack)</td>\n",
       "      <td>41</td>\n",
       "    </tr>\n",
       "  </tbody>\n",
       "</table>\n",
       "<p>100 rows × 6 columns</p>\n",
       "</div>"
      ],
      "text/plain": [
       "                                  Track Name  \\\n",
       "0                             Kaadhal Rojave   \n",
       "1   Ennavale Adi Ennavale (From \"Kaadhalan\")   \n",
       "2                                   Swasamae   \n",
       "3                            Kadhal Sadugudu   \n",
       "4                 Vennilave Vennilave Vinnai   \n",
       "..                                       ...   \n",
       "95                                 Nenjinile   \n",
       "96                    Snehidhane New Version   \n",
       "97                                  New York   \n",
       "98                              Nenjae Yezhu   \n",
       "99                              Singappenney   \n",
       "\n",
       "                               Track URI  \\\n",
       "0   spotify:track:6Eon1DjI712yg69mi3MsAd   \n",
       "1   spotify:track:7G7bUcCrwXHgFc4HZrZhdx   \n",
       "2   spotify:track:5yMTLfW66GUmCknW7sl8du   \n",
       "3   spotify:track:4shmzSwbjpKUIlNhxzlVeC   \n",
       "4   spotify:track:4QvdZjLTneDVibc4kPq7mR   \n",
       "..                                   ...   \n",
       "95  spotify:track:5LULgwaei1OGnWnbklM6GN   \n",
       "96  spotify:track:264oNvCvuhw9RohxkAbWmy   \n",
       "97  spotify:track:38kzhc8vVQa9Ia6HJY3NHx   \n",
       "98  spotify:track:33iY77PeBCX5WosXbg9aZf   \n",
       "99  spotify:track:44z3FoAoo7yvn4ZIvvsQIm   \n",
       "\n",
       "                               Artist URI             Artist Name  \\\n",
       "0   spotify:artist:2ae6PxICSOZHvjqiCcgon8  S. P. Balasubrahmanyam   \n",
       "1   spotify:artist:0mV4UQ0gHg59AAUtg968pX            Unnikrishnan   \n",
       "2   spotify:artist:2ae6PxICSOZHvjqiCcgon8  S. P. Balasubrahmanyam   \n",
       "3   spotify:artist:0BIhMWL7DGz4t4S0NDU6v7         S. P. B. Charan   \n",
       "4   spotify:artist:2NoJ7NuNs9nyj8Thoh1kbu               Hariharan   \n",
       "..                                    ...                     ...   \n",
       "95  spotify:artist:5Xpg6PBSUOoho2lI9qLjiu               S. Janaki   \n",
       "96  spotify:artist:1HGMG8RHvcu1mfdM9MeTek          Sadhana Sargam   \n",
       "97  spotify:artist:1mYsTxnqsietFxj1OgoGbG             A.R. Rahman   \n",
       "98  spotify:artist:1mYsTxnqsietFxj1OgoGbG             A.R. Rahman   \n",
       "99  spotify:artist:1mYsTxnqsietFxj1OgoGbG             A.R. Rahman   \n",
       "\n",
       "                                                Album  Track Pop  \n",
       "0                                                Roja         53  \n",
       "1     P. Unnikrishnan Birthday Special Hit Songs 2019         42  \n",
       "2                                             Thenali         38  \n",
       "3                                        Alaipayuthey         57  \n",
       "4   Minsara Kanavu (Original Motion Picture Soundt...          0  \n",
       "..                                                ...        ...  \n",
       "95         Uyire (Original Motion Picture Soundtrack)         48  \n",
       "96                                       Alaipayuthey         53  \n",
       "97                                  Silunu Oru Kadhal         55  \n",
       "98        Maryan (Original Motion Picture Soundtrack)         44  \n",
       "99         Bigil (Original Motion Picture Soundtrack)         41  \n",
       "\n",
       "[100 rows x 6 columns]"
      ]
     },
     "execution_count": 22,
     "metadata": {},
     "output_type": "execute_result"
    }
   ],
   "source": [
    "user_db"
   ]
  },
  {
   "cell_type": "code",
   "execution_count": 23,
   "id": "d6cc33c1",
   "metadata": {},
   "outputs": [],
   "source": [
    "song_list_1=user_db[\"Track Name\"].to_list()"
   ]
  },
  {
   "cell_type": "code",
   "execution_count": 24,
   "id": "f702683c",
   "metadata": {},
   "outputs": [],
   "source": [
    "f1_song_list=[]\n",
    "for song in song_list_1:\n",
    "    res=Spoti_Obj.search(song)\n",
    "    res=res[\"tracks\"][\"items\"][0][\"uri\"]\n",
    "    f1_song_list.append(res)"
   ]
  },
  {
   "cell_type": "code",
   "execution_count": 25,
   "id": "eae67f9c",
   "metadata": {},
   "outputs": [
    {
     "data": {
      "text/plain": [
       "{'snapshot_id': 'NSw1YTNlMTBkN2ZlZDZhMDU1YWYxNGY2OTQ5NDY0MjBhZjk1ZTE0NDk3'}"
      ]
     },
     "execution_count": 25,
     "metadata": {},
     "output_type": "execute_result"
    }
   ],
   "source": [
    "Spoti_Obj.user_playlist_add_tracks(user=user_name,playlist_id=playlist_id,tracks=f1_song_list)"
   ]
  },
  {
   "cell_type": "markdown",
   "id": "b6849ca6",
   "metadata": {},
   "source": [
    "# Building DataBase for Machine Learning"
   ]
  },
  {
   "cell_type": "code",
   "execution_count": 26,
   "id": "cc3ec690",
   "metadata": {},
   "outputs": [
    {
     "data": {
      "text/html": [
       "<div>\n",
       "<style scoped>\n",
       "    .dataframe tbody tr th:only-of-type {\n",
       "        vertical-align: middle;\n",
       "    }\n",
       "\n",
       "    .dataframe tbody tr th {\n",
       "        vertical-align: top;\n",
       "    }\n",
       "\n",
       "    .dataframe thead th {\n",
       "        text-align: right;\n",
       "    }\n",
       "</style>\n",
       "<table border=\"1\" class=\"dataframe\">\n",
       "  <thead>\n",
       "    <tr style=\"text-align: right;\">\n",
       "      <th></th>\n",
       "      <th>Track Name</th>\n",
       "      <th>Track URI</th>\n",
       "      <th>Artist URI</th>\n",
       "      <th>Artist Name</th>\n",
       "      <th>Album</th>\n",
       "      <th>Track Pop</th>\n",
       "    </tr>\n",
       "  </thead>\n",
       "  <tbody>\n",
       "    <tr>\n",
       "      <th>0</th>\n",
       "      <td>Kaadhal Rojave</td>\n",
       "      <td>spotify:track:6Eon1DjI712yg69mi3MsAd</td>\n",
       "      <td>spotify:artist:2ae6PxICSOZHvjqiCcgon8</td>\n",
       "      <td>S. P. Balasubrahmanyam</td>\n",
       "      <td>Roja</td>\n",
       "      <td>53</td>\n",
       "    </tr>\n",
       "    <tr>\n",
       "      <th>1</th>\n",
       "      <td>Ennavale Adi Ennavale (From \"Kaadhalan\")</td>\n",
       "      <td>spotify:track:7G7bUcCrwXHgFc4HZrZhdx</td>\n",
       "      <td>spotify:artist:0mV4UQ0gHg59AAUtg968pX</td>\n",
       "      <td>Unnikrishnan</td>\n",
       "      <td>P. Unnikrishnan Birthday Special Hit Songs 2019</td>\n",
       "      <td>42</td>\n",
       "    </tr>\n",
       "    <tr>\n",
       "      <th>2</th>\n",
       "      <td>Swasamae</td>\n",
       "      <td>spotify:track:5yMTLfW66GUmCknW7sl8du</td>\n",
       "      <td>spotify:artist:2ae6PxICSOZHvjqiCcgon8</td>\n",
       "      <td>S. P. Balasubrahmanyam</td>\n",
       "      <td>Thenali</td>\n",
       "      <td>38</td>\n",
       "    </tr>\n",
       "    <tr>\n",
       "      <th>3</th>\n",
       "      <td>Kadhal Sadugudu</td>\n",
       "      <td>spotify:track:4shmzSwbjpKUIlNhxzlVeC</td>\n",
       "      <td>spotify:artist:0BIhMWL7DGz4t4S0NDU6v7</td>\n",
       "      <td>S. P. B. Charan</td>\n",
       "      <td>Alaipayuthey</td>\n",
       "      <td>57</td>\n",
       "    </tr>\n",
       "    <tr>\n",
       "      <th>4</th>\n",
       "      <td>Vennilave Vennilave Vinnai</td>\n",
       "      <td>spotify:track:4QvdZjLTneDVibc4kPq7mR</td>\n",
       "      <td>spotify:artist:2NoJ7NuNs9nyj8Thoh1kbu</td>\n",
       "      <td>Hariharan</td>\n",
       "      <td>Minsara Kanavu (Original Motion Picture Soundt...</td>\n",
       "      <td>0</td>\n",
       "    </tr>\n",
       "    <tr>\n",
       "      <th>...</th>\n",
       "      <td>...</td>\n",
       "      <td>...</td>\n",
       "      <td>...</td>\n",
       "      <td>...</td>\n",
       "      <td>...</td>\n",
       "      <td>...</td>\n",
       "    </tr>\n",
       "    <tr>\n",
       "      <th>95</th>\n",
       "      <td>Nenjinile</td>\n",
       "      <td>spotify:track:5LULgwaei1OGnWnbklM6GN</td>\n",
       "      <td>spotify:artist:5Xpg6PBSUOoho2lI9qLjiu</td>\n",
       "      <td>S. Janaki</td>\n",
       "      <td>Uyire (Original Motion Picture Soundtrack)</td>\n",
       "      <td>48</td>\n",
       "    </tr>\n",
       "    <tr>\n",
       "      <th>96</th>\n",
       "      <td>Snehidhane New Version</td>\n",
       "      <td>spotify:track:264oNvCvuhw9RohxkAbWmy</td>\n",
       "      <td>spotify:artist:1HGMG8RHvcu1mfdM9MeTek</td>\n",
       "      <td>Sadhana Sargam</td>\n",
       "      <td>Alaipayuthey</td>\n",
       "      <td>53</td>\n",
       "    </tr>\n",
       "    <tr>\n",
       "      <th>97</th>\n",
       "      <td>New York</td>\n",
       "      <td>spotify:track:38kzhc8vVQa9Ia6HJY3NHx</td>\n",
       "      <td>spotify:artist:1mYsTxnqsietFxj1OgoGbG</td>\n",
       "      <td>A.R. Rahman</td>\n",
       "      <td>Silunu Oru Kadhal</td>\n",
       "      <td>55</td>\n",
       "    </tr>\n",
       "    <tr>\n",
       "      <th>98</th>\n",
       "      <td>Nenjae Yezhu</td>\n",
       "      <td>spotify:track:33iY77PeBCX5WosXbg9aZf</td>\n",
       "      <td>spotify:artist:1mYsTxnqsietFxj1OgoGbG</td>\n",
       "      <td>A.R. Rahman</td>\n",
       "      <td>Maryan (Original Motion Picture Soundtrack)</td>\n",
       "      <td>44</td>\n",
       "    </tr>\n",
       "    <tr>\n",
       "      <th>99</th>\n",
       "      <td>Singappenney</td>\n",
       "      <td>spotify:track:44z3FoAoo7yvn4ZIvvsQIm</td>\n",
       "      <td>spotify:artist:1mYsTxnqsietFxj1OgoGbG</td>\n",
       "      <td>A.R. Rahman</td>\n",
       "      <td>Bigil (Original Motion Picture Soundtrack)</td>\n",
       "      <td>41</td>\n",
       "    </tr>\n",
       "  </tbody>\n",
       "</table>\n",
       "<p>100 rows × 6 columns</p>\n",
       "</div>"
      ],
      "text/plain": [
       "                                  Track Name  \\\n",
       "0                             Kaadhal Rojave   \n",
       "1   Ennavale Adi Ennavale (From \"Kaadhalan\")   \n",
       "2                                   Swasamae   \n",
       "3                            Kadhal Sadugudu   \n",
       "4                 Vennilave Vennilave Vinnai   \n",
       "..                                       ...   \n",
       "95                                 Nenjinile   \n",
       "96                    Snehidhane New Version   \n",
       "97                                  New York   \n",
       "98                              Nenjae Yezhu   \n",
       "99                              Singappenney   \n",
       "\n",
       "                               Track URI  \\\n",
       "0   spotify:track:6Eon1DjI712yg69mi3MsAd   \n",
       "1   spotify:track:7G7bUcCrwXHgFc4HZrZhdx   \n",
       "2   spotify:track:5yMTLfW66GUmCknW7sl8du   \n",
       "3   spotify:track:4shmzSwbjpKUIlNhxzlVeC   \n",
       "4   spotify:track:4QvdZjLTneDVibc4kPq7mR   \n",
       "..                                   ...   \n",
       "95  spotify:track:5LULgwaei1OGnWnbklM6GN   \n",
       "96  spotify:track:264oNvCvuhw9RohxkAbWmy   \n",
       "97  spotify:track:38kzhc8vVQa9Ia6HJY3NHx   \n",
       "98  spotify:track:33iY77PeBCX5WosXbg9aZf   \n",
       "99  spotify:track:44z3FoAoo7yvn4ZIvvsQIm   \n",
       "\n",
       "                               Artist URI             Artist Name  \\\n",
       "0   spotify:artist:2ae6PxICSOZHvjqiCcgon8  S. P. Balasubrahmanyam   \n",
       "1   spotify:artist:0mV4UQ0gHg59AAUtg968pX            Unnikrishnan   \n",
       "2   spotify:artist:2ae6PxICSOZHvjqiCcgon8  S. P. Balasubrahmanyam   \n",
       "3   spotify:artist:0BIhMWL7DGz4t4S0NDU6v7         S. P. B. Charan   \n",
       "4   spotify:artist:2NoJ7NuNs9nyj8Thoh1kbu               Hariharan   \n",
       "..                                    ...                     ...   \n",
       "95  spotify:artist:5Xpg6PBSUOoho2lI9qLjiu               S. Janaki   \n",
       "96  spotify:artist:1HGMG8RHvcu1mfdM9MeTek          Sadhana Sargam   \n",
       "97  spotify:artist:1mYsTxnqsietFxj1OgoGbG             A.R. Rahman   \n",
       "98  spotify:artist:1mYsTxnqsietFxj1OgoGbG             A.R. Rahman   \n",
       "99  spotify:artist:1mYsTxnqsietFxj1OgoGbG             A.R. Rahman   \n",
       "\n",
       "                                                Album  Track Pop  \n",
       "0                                                Roja         53  \n",
       "1     P. Unnikrishnan Birthday Special Hit Songs 2019         42  \n",
       "2                                             Thenali         38  \n",
       "3                                        Alaipayuthey         57  \n",
       "4   Minsara Kanavu (Original Motion Picture Soundt...          0  \n",
       "..                                                ...        ...  \n",
       "95         Uyire (Original Motion Picture Soundtrack)         48  \n",
       "96                                       Alaipayuthey         53  \n",
       "97                                  Silunu Oru Kadhal         55  \n",
       "98        Maryan (Original Motion Picture Soundtrack)         44  \n",
       "99         Bigil (Original Motion Picture Soundtrack)         41  \n",
       "\n",
       "[100 rows x 6 columns]"
      ]
     },
     "execution_count": 26,
     "metadata": {},
     "output_type": "execute_result"
    }
   ],
   "source": [
    "user_db"
   ]
  },
  {
   "cell_type": "code",
   "execution_count": null,
   "id": "78a34f58",
   "metadata": {},
   "outputs": [],
   "source": [
    "Spoti_Obj.audio_analysis(user_db['Track URI'][0])"
   ]
  },
  {
   "cell_type": "code",
   "execution_count": 27,
   "id": "321a3050",
   "metadata": {},
   "outputs": [
    {
     "data": {
      "text/plain": [
       "[{'danceability': 0.696,\n",
       "  'energy': 0.423,\n",
       "  'key': 4,\n",
       "  'loudness': -9.243,\n",
       "  'mode': 1,\n",
       "  'speechiness': 0.0321,\n",
       "  'acousticness': 0.83,\n",
       "  'instrumentalness': 0.00141,\n",
       "  'liveness': 0.126,\n",
       "  'valence': 0.432,\n",
       "  'tempo': 91.007,\n",
       "  'type': 'audio_features',\n",
       "  'id': '6Eon1DjI712yg69mi3MsAd',\n",
       "  'uri': 'spotify:track:6Eon1DjI712yg69mi3MsAd',\n",
       "  'track_href': 'https://api.spotify.com/v1/tracks/6Eon1DjI712yg69mi3MsAd',\n",
       "  'analysis_url': 'https://api.spotify.com/v1/audio-analysis/6Eon1DjI712yg69mi3MsAd',\n",
       "  'duration_ms': 299911,\n",
       "  'time_signature': 4}]"
      ]
     },
     "execution_count": 27,
     "metadata": {},
     "output_type": "execute_result"
    }
   ],
   "source": [
    "Spoti_Obj.audio_features(user_db['Track URI'][0])"
   ]
  },
  {
   "cell_type": "markdown",
   "id": "9299fe47",
   "metadata": {},
   "source": [
    "# Decide on Features for ML"
   ]
  },
  {
   "cell_type": "code",
   "execution_count": null,
   "id": "1cefa14b",
   "metadata": {},
   "outputs": [],
   "source": []
  },
  {
   "cell_type": "code",
   "execution_count": null,
   "id": "f47cf3f7",
   "metadata": {},
   "outputs": [],
   "source": []
  }
 ],
 "metadata": {
  "kernelspec": {
   "display_name": "Python 3 (ipykernel)",
   "language": "python",
   "name": "python3"
  },
  "language_info": {
   "codemirror_mode": {
    "name": "ipython",
    "version": 3
   },
   "file_extension": ".py",
   "mimetype": "text/x-python",
   "name": "python",
   "nbconvert_exporter": "python",
   "pygments_lexer": "ipython3",
   "version": "3.9.7"
  }
 },
 "nbformat": 4,
 "nbformat_minor": 5
}
